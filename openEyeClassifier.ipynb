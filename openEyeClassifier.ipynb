{
 "cells": [
  {
   "cell_type": "code",
   "execution_count": null,
   "metadata": {},
   "outputs": [],
   "source": [
    "import numpy as np\n",
    "import pandas as pd\n",
    "import csv\n",
    "import matplotlib.pyplot as plt\n",
    "\n",
    "import tensorflow as tf\n",
    "\n",
    "from keras.models import Sequential\n",
    "from keras.layers import Input, Dense, MaxPooling2D, Conv2D, Flatten\n",
    "from keras.optimizers import Adam\n",
    "from keras import regularizers\n",
    "from keras import optimizers\n",
    "from keras import initializers\n",
    "from keras.preprocessing import image\n",
    "\n",
    "import keras.backend as K\n",
    "\n",
    "from sklearn.preprocessing import OneHotEncoder\n",
    "from sklearn.utils import shuffle"
   ]
  },
  {
   "cell_type": "code",
   "execution_count": null,
   "metadata": {},
   "outputs": [],
   "source": [
    "%pylab inline\n",
    "import matplotlib.pyplot as plt\n",
    "import matplotlib.image as mpimg\n",
    "img=mpimg.imread('dataClosedEye/closedEye2.jpg')\n",
    "imgplot = plt.imshow(img)\n",
    "plt.show()"
   ]
  },
  {
   "cell_type": "code",
   "execution_count": null,
   "metadata": {},
   "outputs": [],
   "source": [
    "img.shape"
   ]
  },
  {
   "cell_type": "code",
   "execution_count": null,
   "metadata": {},
   "outputs": [],
   "source": [
    "# Read all data\n",
    "allDataX = np.zeros((826,260,400))\n",
    "allDataY = np.zeros(826)\n",
    "\n",
    "for i in range(346):\n",
    "    filename = 'dataClosedEye/closedEye'+str(i)+'.jpg'\n",
    "    img=mpimg.imread(filename)\n",
    "\n",
    "    allDataX[i] = img\n",
    "    allDataY[i] = 0\n",
    "\n",
    "    \n",
    "for i in range(480):\n",
    "    filename = 'dataOpenedEye/openedEye'+str(i)+'.jpg'\n",
    "    img=mpimg.imread(filename)\n",
    "    allDataX[i+346] = img\n",
    "    allDataY[i+346] = 1\n"
   ]
  },
  {
   "cell_type": "code",
   "execution_count": null,
   "metadata": {},
   "outputs": [],
   "source": [
    "allDataX.shape"
   ]
  },
  {
   "cell_type": "code",
   "execution_count": null,
   "metadata": {},
   "outputs": [],
   "source": [
    "allDataX = reshape(allDataX, (allDataX.shape[0], allDataX.shape[1], allDataX.shape[2], 1))"
   ]
  },
  {
   "cell_type": "code",
   "execution_count": null,
   "metadata": {},
   "outputs": [],
   "source": [
    "allDataX.shape"
   ]
  },
  {
   "cell_type": "code",
   "execution_count": null,
   "metadata": {},
   "outputs": [],
   "source": [
    "allDataY[300]"
   ]
  },
  {
   "cell_type": "code",
   "execution_count": null,
   "metadata": {},
   "outputs": [],
   "source": [
    "Xtrain, Ytrain = shuffle(allDataX, allDataY, random_state=0)\n",
    "Xvalid = Xtrain[700:]\n",
    "Xtrain = Xtrain[:700]\n",
    "Yvalid = Ytrain[700:]\n",
    "Ytrain = Ytrain[:700]"
   ]
  },
  {
   "cell_type": "code",
   "execution_count": null,
   "metadata": {},
   "outputs": [],
   "source": [
    "def model(Xshape):\n",
    "    \n",
    "    mod = Sequential()\n",
    "    mod.add(Conv2D(4, (5, 5), activation='relu', kernel_initializer='glorot_normal', input_shape=Xshape))\n",
    "    mod.add(MaxPooling2D(pool_size=(4, 4)))\n",
    "    \n",
    "    mod.add(Conv2D(8, (5, 5), activation='relu', kernel_initializer='glorot_normal'))\n",
    "    mod.add(MaxPooling2D(pool_size=(4, 4)))\n",
    "\n",
    "    mod.add(Flatten())\n",
    "#    mod.add(Dense(256, activation='relu', kernel_initializer='glorot_normal', kernel_regularizer=regularizers.l2(0.01)))\n",
    "    mod.add(Dense(256, activation='relu', kernel_initializer='glorot_normal', kernel_regularizer=regularizers.l2(0.0)))\n",
    "#    mod.add(Dense(256, activation='relu', kernel_initializer='glorot_normal', kernel_regularizer=regularizers.l2(0.0)))\n",
    "    mod.add(Dense(1, activation='sigmoid', kernel_initializer='glorot_normal'))\n",
    "    \n",
    "    return mod"
   ]
  },
  {
   "cell_type": "code",
   "execution_count": null,
   "metadata": {},
   "outputs": [],
   "source": [
    "mymodel = model(Xtrain.shape[1:])\n",
    "opt = optimizers.Adam(lr=0.0001)#, decay=0.0001)\n",
    "\n",
    "\n",
    "mymodel.compile(loss='binary_crossentropy', optimizer=opt, metrics=['accuracy'])"
   ]
  },
  {
   "cell_type": "code",
   "execution_count": null,
   "metadata": {},
   "outputs": [],
   "source": [
    "# First train with small mini batch size and default learning rate\n",
    "mymodel.fit(Xtrain, Ytrain, epochs = 10, batch_size=32)\n",
    "# Then train with smaller learning rate and larger batch size\n",
    "#K.set_value(mymodel.optimizer.lr, 0.001)\n",
    "#mymodel.fit(xtrain, ylabels, epochs = 10, batch_size=512)\n",
    "#K.set_value(mymodel.optimizer.lr, 0.0001)\n",
    "#mymodel.fit(xtrain, ylabels, epochs = 10, batch_size=1024)\n",
    "\n"
   ]
  },
  {
   "cell_type": "code",
   "execution_count": null,
   "metadata": {},
   "outputs": [],
   "source": [
    "pred = mymodel.evaluate(x = Xvalid, y = Yvalid)\n",
    "### END CODE HERE ###\n",
    "print()\n",
    "print (\"Loss = \" + str(pred[0]))\n",
    "print (\"Test Accuracy = \" + str(pred[1]))"
   ]
  },
  {
   "cell_type": "code",
   "execution_count": null,
   "metadata": {},
   "outputs": [],
   "source": [
    "validPred = mymodel.predict(Xvalid)"
   ]
  },
  {
   "cell_type": "code",
   "execution_count": null,
   "metadata": {},
   "outputs": [],
   "source": [
    "np.where(validPred > 0.5) "
   ]
  },
  {
   "cell_type": "code",
   "execution_count": null,
   "metadata": {},
   "outputs": [],
   "source": [
    "np.where(Yvalid == 1)"
   ]
  },
  {
   "cell_type": "code",
   "execution_count": null,
   "metadata": {},
   "outputs": [],
   "source": [
    "missed = np.reshape(Xvalid[26], (260,400))\n",
    "plt.imshow(missed, cmap='gray')\n",
    "plt.show()"
   ]
  },
  {
   "cell_type": "code",
   "execution_count": null,
   "metadata": {},
   "outputs": [],
   "source": [
    "# Read all data\n",
    "dataOpened = np.zeros((209,260,400))\n",
    "\n",
    "for i in range(209):\n",
    "    filename = 'dataMarie/marieEye'+str(i)+'.jpg'\n",
    "    img=mpimg.imread(filename)\n",
    "    dataOpened[i] = img\n"
   ]
  },
  {
   "cell_type": "code",
   "execution_count": null,
   "metadata": {
    "scrolled": true
   },
   "outputs": [],
   "source": [
    "%matplotlib notebook\n",
    "plt.imshow(dataOpened[208], cmap='gray')\n",
    "plt.show()"
   ]
  },
  {
   "cell_type": "code",
   "execution_count": null,
   "metadata": {},
   "outputs": [],
   "source": []
  }
 ],
 "metadata": {
  "kernelspec": {
   "display_name": "Python 3",
   "language": "python",
   "name": "python3"
  },
  "language_info": {
   "codemirror_mode": {
    "name": "ipython",
    "version": 3
   },
   "file_extension": ".py",
   "mimetype": "text/x-python",
   "name": "python",
   "nbconvert_exporter": "python",
   "pygments_lexer": "ipython3",
   "version": "3.5.4"
  }
 },
 "nbformat": 4,
 "nbformat_minor": 2
}
