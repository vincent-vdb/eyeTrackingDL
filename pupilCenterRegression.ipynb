{
 "cells": [
  {
   "cell_type": "code",
   "execution_count": null,
   "metadata": {},
   "outputs": [],
   "source": [
    "import numpy as np\n",
    "import pandas as pd\n",
    "import csv\n",
    "import matplotlib.pyplot as plt\n",
    "\n",
    "import tensorflow as tf\n",
    "\n",
    "from keras.models import Sequential\n",
    "from keras.layers import Input, Dense, MaxPooling2D, Conv2D, Flatten\n",
    "from keras.optimizers import Adam\n",
    "from keras import regularizers\n",
    "from keras import optimizers\n",
    "from keras import initializers\n",
    "from keras.preprocessing import image\n",
    "\n",
    "import keras.backend as K\n",
    "\n",
    "from sklearn.preprocessing import OneHotEncoder\n",
    "from sklearn.utils import shuffle\n",
    "\n",
    "import matplotlib.pyplot as plt\n",
    "import matplotlib.image as mpimg\n",
    "\n",
    "import matplotlib.patches as patches"
   ]
  },
  {
   "cell_type": "code",
   "execution_count": null,
   "metadata": {},
   "outputs": [],
   "source": [
    "# Read images\n",
    "images = np.zeros((1135,260,400))\n",
    "\n",
    "for i in range(480):\n",
    "    filename = 'dataOpenedEye/openedEye'+str(i)+'.jpg'\n",
    "    img=mpimg.imread(filename)\n",
    "    images[i] = img\n",
    "\n",
    "for i in range(81):\n",
    "    filename = 'dataPavel/pavelEye'+str(i)+'.jpg'\n",
    "    img=mpimg.imread(filename)\n",
    "    images[i+480] = img\n",
    "    \n",
    "for i in range(74):\n",
    "    filename = 'dataYannick/yannickEye'+str(i)+'.jpg'\n",
    "    img=mpimg.imread(filename)\n",
    "    images[i+480+81] = img\n",
    "\n",
    "for i in range(75):\n",
    "    filename = 'dataKevin/kevinEye'+str(i)+'.jpg'\n",
    "    img=mpimg.imread(filename)\n",
    "    images[i+480+81+74] = img \n",
    "\n",
    "for i in range(216):\n",
    "    filename = 'dataAli/aliEye'+str(i)+'.jpg'\n",
    "    img=mpimg.imread(filename)\n",
    "    images[i+480+81+74+75] = img\n",
    "    \n",
    "for i in range(209):\n",
    "    filename = 'dataMarie/marieEye'+str(i)+'.jpg'\n",
    "    img=mpimg.imread(filename)\n",
    "    images[i+480+81+74+75+216] = img\n",
    "    \n",
    "    \n",
    "    \n",
    "images = np.reshape(images, (images.shape[0], images.shape[1], images.shape[2], 1))\n",
    "\n",
    "# Rescale images\n",
    "images = images/255.\n",
    "\n",
    "images.shape"
   ]
  },
  {
   "cell_type": "code",
   "execution_count": null,
   "metadata": {},
   "outputs": [],
   "source": [
    "# Read target values\n",
    "target1 = pd.read_csv('dataOpenedEye/dataPupilCenter.csv')\n",
    "target2 = pd.read_csv('dataPavel/pavelPupilCenter.csv')\n",
    "target3 = pd.read_csv('dataYannick/yannickPupilCenter.csv')\n",
    "target4 = pd.read_csv('dataKevin/kevinPupilCenter.csv')\n",
    "target5 = pd.read_csv('dataAli/aliPupilCenter.csv')\n",
    "target6 = pd.read_csv('dataMarie/mariePupilCenter.csv')\n",
    "target = [target1, target2, target3, target4, target5, target6]\n",
    "target = pd.concat(target)\n",
    "\n",
    "target.shape"
   ]
  },
  {
   "cell_type": "code",
   "execution_count": null,
   "metadata": {},
   "outputs": [],
   "source": [
    "# Remove missing values\n",
    "images = images[target.xcentral != '?']\n",
    "target = target[target.xcentral != '?']\n",
    "target = target.astype('float32')\n",
    "target.shape"
   ]
  },
  {
   "cell_type": "code",
   "execution_count": null,
   "metadata": {},
   "outputs": [],
   "source": [
    "# Put target data in shape\n",
    "targetX = target['xcentral'].values.reshape((target['xcentral'].shape[0], 1))\n",
    "targetY = target['ycentral'].values.reshape((target['ycentral'].shape[0], 1))\n",
    "\n",
    "# Rescale targets between 0 and 1 \n",
    "targetX = targetX/400.\n",
    "targetY = targetY/260.\n",
    "\n",
    "targetTrain = np.concatenate((targetX, targetY), axis=1)\n",
    "targetTrain.shape"
   ]
  },
  {
   "cell_type": "code",
   "execution_count": null,
   "metadata": {},
   "outputs": [],
   "source": [
    "# Data augmentation by adding horizontal mirror images\n",
    "imagesFlipped = np.flip(images, axis=2)\n",
    "\n",
    "targetFlipped = np.zeros(targetTrain.shape)\n",
    "targetFlipped[:,0] = 1-targetTrain[:,0]\n",
    "targetFlipped[:,1] = targetTrain[:,1]\n",
    "\n",
    "images = np.concatenate((images, imagesFlipped), axis=0)\n",
    "targetTrain = np.concatenate((targetTrain, targetFlipped), axis=0)"
   ]
  },
  {
   "cell_type": "code",
   "execution_count": null,
   "metadata": {},
   "outputs": [],
   "source": [
    "%matplotlib notebook\n",
    "# Image to display\n",
    "index=1090\n",
    "\n",
    "display = np.reshape(images[index], (260,400))\n",
    "box = targetTrain[index]\n",
    "\n",
    "# Create figure and axes\n",
    "fig,ax = plt.subplots(1)\n",
    "\n",
    "# Display the image\n",
    "ax.imshow(display, cmap='gray')\n",
    "\n",
    "# Create a Rectangle patch\n",
    "rect = patches.Rectangle((box[0]*400-60,box[1]*260-60),120,120,linewidth=1,edgecolor='y',facecolor='none')\n",
    "\n",
    "# Add the patch to the Axes\n",
    "ax.add_patch(rect)\n",
    "\n",
    "plt.show()"
   ]
  },
  {
   "cell_type": "code",
   "execution_count": null,
   "metadata": {},
   "outputs": [],
   "source": [
    "# Shuffle data\n",
    "xtrain, ytrain = shuffle(images, targetTrain, random_state=0)\n",
    "#xvalid = xtrain[512:]\n",
    "#xtrain = xtrain[:512]\n",
    "#yvalid = ytrain[512:]\n",
    "#ytrain = ytrain[:512]"
   ]
  },
  {
   "cell_type": "code",
   "execution_count": null,
   "metadata": {},
   "outputs": [],
   "source": [
    "def model(Xshape):\n",
    "    \n",
    "    mod = Sequential()\n",
    "    mod.add(Conv2D(4, (7, 7), activation='relu', kernel_initializer='glorot_normal', kernel_regularizer=regularizers.l2(0.0), input_shape=Xshape))\n",
    "    mod.add(MaxPooling2D(pool_size=(4, 4)))\n",
    "    \n",
    "    mod.add(Conv2D(8, (7, 7), activation='relu', kernel_initializer='glorot_normal', kernel_regularizer=regularizers.l2(0.0)))\n",
    "    mod.add(MaxPooling2D(pool_size=(4, 4)))\n",
    "\n",
    "    mod.add(Flatten())\n",
    "#    mod.add(Dense(256, activation='relu', kernel_initializer='glorot_normal', kernel_regularizer=regularizers.l2(0.01)))\n",
    "    mod.add(Dense(128, activation='relu', kernel_initializer='glorot_normal', kernel_regularizer=regularizers.l2(0.02)))\n",
    "#    mod.add(Dense(256, activation='relu', kernel_initializer='glorot_normal', kernel_regularizer=regularizers.l2(0.0)))\n",
    "    mod.add(Dense(2, activation='sigmoid', kernel_initializer='glorot_normal'))\n",
    "    \n",
    "    return mod"
   ]
  },
  {
   "cell_type": "code",
   "execution_count": null,
   "metadata": {},
   "outputs": [],
   "source": [
    "mymodel = model(xtrain.shape[1:])\n",
    "opt = optimizers.Adam(lr=0.0001)\n",
    "mymodel.compile(loss='mean_squared_error', optimizer='adam', metrics=['accuracy'])"
   ]
  },
  {
   "cell_type": "code",
   "execution_count": null,
   "metadata": {},
   "outputs": [],
   "source": [
    "# First train with small mini batch size and default learning rate\n",
    "mymodel.fit(xtrain, ytrain, epochs = 40, batch_size=64)"
   ]
  },
  {
   "cell_type": "code",
   "execution_count": null,
   "metadata": {},
   "outputs": [],
   "source": [
    "# Then train with smaller learning rate and larger batch size\n",
    "K.set_value(mymodel.optimizer.lr, 0.0005)\n",
    "mymodel.fit(xtrain, ytrain, epochs = 10, batch_size=128)\n",
    "K.set_value(mymodel.optimizer.lr, 0.0001)\n",
    "mymodel.fit(xtrain, ytrain, epochs = 10, batch_size=256)"
   ]
  },
  {
   "cell_type": "code",
   "execution_count": null,
   "metadata": {},
   "outputs": [],
   "source": [
    "# Make the prediction on all\n",
    "ypredict = mymodel.predict(images)"
   ]
  },
  {
   "cell_type": "code",
   "execution_count": null,
   "metadata": {},
   "outputs": [],
   "source": [
    "#%matplotlib notebook\n",
    "index=22\n",
    "\n",
    "display = np.reshape(images[index], (260,400))\n",
    "box = ypredict[index]\n",
    "\n",
    "# Create figure and axes\n",
    "fig,ax = plt.subplots(1)\n",
    "\n",
    "# Display the image\n",
    "ax.imshow(display, cmap='gray')\n",
    "\n",
    "# Create a Rectangle patch\n",
    "rect = patches.Rectangle((box[0]*400-60,box[1]*260-60),120,120,linewidth=1,edgecolor='y',facecolor='none')\n",
    "\n",
    "# Add the patch to the Axes\n",
    "ax.add_patch(rect)\n",
    "\n",
    "plt.show()"
   ]
  },
  {
   "cell_type": "code",
   "execution_count": null,
   "metadata": {},
   "outputs": [],
   "source": [
    "# Make the prediction for valid dataset\n",
    "validPredict = mymodel.predict(xvalid)"
   ]
  },
  {
   "cell_type": "code",
   "execution_count": null,
   "metadata": {},
   "outputs": [],
   "source": [
    "index=14\n",
    "\n",
    "display = np.reshape(xvalid[index], (260,400))\n",
    "box = validPredict[index]\n",
    "\n",
    "# Create figure and axes\n",
    "fig,ax = plt.subplots(1)\n",
    "\n",
    "# Display the image\n",
    "ax.imshow(display, cmap='gray')\n",
    "\n",
    "# Create a Rectangle patch\n",
    "rect = patches.Rectangle((box[0]*400-60,box[1]*260-60),120,120,linewidth=1,edgecolor='r',facecolor='none')\n",
    "\n",
    "# Add the patch to the Axes\n",
    "ax.add_patch(rect)\n",
    "\n",
    "plt.show()"
   ]
  },
  {
   "cell_type": "code",
   "execution_count": null,
   "metadata": {},
   "outputs": [],
   "source": [
    "# Make the prediction on a totally new dataset\n",
    "# Read images\n",
    "newImages = np.zeros((208,260,400))\n",
    "\n",
    "for i in range(208):\n",
    "    filename = 'dataHelene/heleneEye'+str(i)+'.jpg'\n",
    "    img=mpimg.imread(filename)\n",
    "    newImages[i] = img\n",
    "\n",
    "        \n",
    "newImages = np.reshape(newImages, (newImages.shape[0], newImages.shape[1], newImages.shape[2], 1))\n",
    "\n",
    "# Rescale images\n",
    "newImages = newImages/255.\n",
    "\n",
    "# Make the prediction for valid dataset\n",
    "newImagesPredict = mymodel.predict(newImages)"
   ]
  },
  {
   "cell_type": "code",
   "execution_count": null,
   "metadata": {},
   "outputs": [],
   "source": [
    "# Image to display\n",
    "index=205\n",
    "\n",
    "display = np.reshape(newImages[index], (260,400))\n",
    "box = newImagesPredict[index]\n",
    "\n",
    "# Create figure and axes\n",
    "fig,ax = plt.subplots(1)\n",
    "\n",
    "# Display the image\n",
    "ax.imshow(display, cmap='gray')\n",
    "\n",
    "# Create a Rectangle patch\n",
    "rect = patches.Rectangle((box[0]*400-60,box[1]*260-60),120,120,linewidth=1,edgecolor='y',facecolor='none')\n",
    "\n",
    "# Add the patch to the Axes\n",
    "ax.add_patch(rect)\n",
    "\n",
    "plt.show()\n"
   ]
  },
  {
   "cell_type": "code",
   "execution_count": null,
   "metadata": {},
   "outputs": [],
   "source": []
  }
 ],
 "metadata": {
  "kernelspec": {
   "display_name": "Python 3",
   "language": "python",
   "name": "python3"
  },
  "language_info": {
   "codemirror_mode": {
    "name": "ipython",
    "version": 3
   },
   "file_extension": ".py",
   "mimetype": "text/x-python",
   "name": "python",
   "nbconvert_exporter": "python",
   "pygments_lexer": "ipython3",
   "version": "3.5.4"
  }
 },
 "nbformat": 4,
 "nbformat_minor": 2
}
